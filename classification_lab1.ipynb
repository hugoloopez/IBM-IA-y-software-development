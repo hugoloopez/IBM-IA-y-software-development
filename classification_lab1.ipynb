{
  "cells": [
    {
      "cell_type": "code",
      "source": [
        "!pip install langchain-community\n",
        "!pip install replicate"
      ],
      "metadata": {
        "id": "cBspFmqtl9OJ"
      },
      "execution_count": null,
      "outputs": []
    },
    {
      "cell_type": "code",
      "execution_count": null,
      "metadata": {
        "id": "ILxtHjgWettH"
      },
      "outputs": [],
      "source": [
        "from langchain_community.llms import Replicate\n",
        "import os\n",
        "from google.colab import userdata\n",
        "\n",
        "# Establecer el token de API\n",
        "api_token = userdata.get('Replicate')\n",
        "os.environ[\"REPLICATE_API_TOKEN\"] = api_token\n",
        "# Configuración del modelo\n",
        "modelo = \"ibm-granite/granite-3.3-8b-instruct\"\n",
        "resultado = Replicate(\n",
        " model=modelo,\n",
        " replicate_api_token=api_token,\n",
        ")"
      ]
    },
    {
      "cell_type": "code",
      "execution_count": null,
      "metadata": {
        "colab": {
          "base_uri": "https://localhost:8080/"
        },
        "id": "gxQutSJUfGd1",
        "outputId": "f35ebc14-273e-41f3-d1f1-b00a68c14e67"
      },
      "outputs": [
        {
          "output_type": "stream",
          "name": "stdout",
          "text": [
            "Granite Model Response:\n",
            "\n",
            "1. Positiva: La primera reseña es positiva, ya que destaca la duración de la batería y el rendimiento excelente del dispositivo.\n",
            "\n",
            "2. Mixta: La segunda reseña es mixta. El usuario expresa una preocupación negativa sobre la pantalla siendo demasiado tenue al aire libre, pero también menciona que le gustan los colores en interiores, lo cual es positivo.\n",
            "\n",
            "3. Negativa: La tercera reseña es negativa. El usuario señala problemas de rendimiento, indicando que el teléfono es lento y que presenta fallos al abrir ciertas aplicaciones.\n"
          ]
        }
      ],
      "source": [
        "# Definir las opiniones de los clientes\n",
        "customer_reviews = [\n",
        " \"La batería dura todo el día y el rendimiento es excelente\",\n",
        " \"La pantalla es demasiado tenue en exteriores, pero me encantan los colores en interiores\",\n",
        " \"Este teléfono es lento y falla cuando abro ciertasaplicaciones\"\n",
        "]\n",
        "# Refinar la solicitud para incluir reseñas\n",
        "reviews_text = \"\\n\".join([f\"Review {i+1}: {review}\" for i, review in enumerate(customer_reviews)])\n",
        "prompt = f\"\"\"\n",
        "Clasifica estas reseñas como positivas, negativas o mixtas:\n",
        "{reviews_text}\n",
        "\"\"\"\n",
        "# Invocar el modelo con la solicitud de ejemplo\n",
        "respuesta = resultado.invoke(prompt)\n",
        "# Imprimir la respuesta\n",
        "print(\"Granite Model Response:\\n\")\n",
        "print(respuesta)"
      ]
    },
    {
      "cell_type": "code",
      "execution_count": null,
      "metadata": {
        "id": "2PLCQVK7Fv_J",
        "colab": {
          "base_uri": "https://localhost:8080/"
        },
        "outputId": "35bae26a-8f60-46b2-ebac-09ee27899dff"
      },
      "outputs": [
        {
          "output_type": "stream",
          "name": "stdout",
          "text": [
            "Granite Model Refined Response:\n",
            "\n",
            "Aquí están las clasificaciones para las reseñas, con sus categorías pertinentes:\n",
            "\n",
            "1. Reseña 1: Positiva\n",
            "   - Categorías: Duración de la batería (positiva), Rendimiento (positiva)\n",
            "\n",
            "2. Reseña 2: Mixta\n",
            "   - Categorías: Calidad de la pantalla (negativa en exteriores, positiva en interiores)\n",
            "\n",
            "3. Reseña 3: Negativa\n",
            "   - Categorías: Rendimiento (negativo), Duración de la batería (no mencionada, pero por implicación, podría verse afectada por el rendimiento lento)\n",
            "\n",
            "Cada reseña se clasifica según su tono general y las características específicas mencionadas. La reseña 1 es positiva debido a la duración de la batería y el rendimiento excelentes. La reseña 2 es mixta, ya que, aunque la calidad de la pantalla es negativa al usarla al aire libre, el usuario aprecia los colores al usarla en interiores. La reseña 3 es negativa, ya que el rendimiento lento y las fallas al abrir ciertas aplicaciones indican claramente una experiencia insatisfactoria. En este caso, aunque no se menciona explícitamente, la duración de la batería podría verse afectada por el rendimiento lento del dispositivo.\n"
          ]
        }
      ],
      "source": [
        "refined_prompt = f\"\"\"\n",
        "Clasifica estas reseñas como positivas, negativas o mixtas y\n",
        "etiqueta las categorías pertinentes (duración de la batería,\n",
        "calidad de la pantalla o rendimiento):\n",
        "{reviews_text}\n",
        "\"\"\"\n",
        "# Invocar el modelo con la solicitud de ejemplo\n",
        "respuesta = resultado.invoke(refined_prompt)\n",
        "# Imprimir la respuesta\n",
        "print(\"Granite Model Refined Response:\\n\")\n",
        "print(respuesta)"
      ]
    },
    {
      "cell_type": "code",
      "execution_count": null,
      "metadata": {
        "id": "BL_wKRLMF78y",
        "colab": {
          "base_uri": "https://localhost:8080/"
        },
        "outputId": "04186aea-1e8c-42cc-a571-36c818289be9"
      },
      "outputs": [
        {
          "output_type": "stream",
          "name": "stdout",
          "text": [
            "Granite Model Response:\n",
            "\n",
            "**Paso 1: Clasificación de las reseñas**\n",
            "\n",
            "1. Reseña 1: Positiva\n",
            "2. Reseña 2: Mixta\n",
            "3. Reseña 3: Negativa\n",
            "\n",
            "**Paso 2: Identificación de categorías pertinentes**\n",
            "\n",
            "1. Reseña 1:\n",
            "   - Categorías: Duración de la batería (positiva), Rendimiento (positiva)\n",
            "   - Análisis: La reseña expresa satisfacción con la duración prolongada de la batería (\"dura todo el día\") y el rendimiento del dispositivo (\"rendimiento es excelente\").\n",
            "\n",
            "2. Reseña 2:\n",
            "   - Categorías: Calidad de la pantalla (mixta), Posible mención de durabilidad del dispositivo en interiores\n",
            "   - Análisis: La reseña destaca una característica negativa de la pantalla en exteriores (\"demasiado tenue\"), pero también menciona un aspecto positivo en interiores (\"me encantan los colores\"). No se menciona explícitamente la duración de la batería o el rendimiento.\n",
            "\n",
            "3. Reseña 3:\n",
            "   - Categorías: Rendimiento (negativa)\n",
            "   - Análisis: La reseña se centra en un problema de rendimiento, indicando que el dispositivo es lento y presenta fallos al abrir ciertas aplicaciones. No se menciona nada sobre la duración de la batería o la calidad de la pantalla.\n",
            "\n",
            "Nota: La reseña 2 podría extenderse a otras categorías si se analizara más a fondo, pero dada la información proporcionada, solo la calidad de la pantalla parece ser explícitamente mencionada.\n"
          ]
        }
      ],
      "source": [
        "# Definir la solicitud para completar la tarea en 2 pasos\n",
        "multitask_prompt = f\"\"\"\n",
        "Completa la tarea en 2 pasos.\n",
        "Paso 1: Clasificar estas reseñas como positivas, negativas o\n",
        "mixtas.\n",
        "Paso 2: Para cada reseña, identificar las categorías\n",
        "pertinentes: duración de la batería, calidad de la pantalla o\n",
        "rendimiento.\n",
        "{reviews_text}\n",
        "\"\"\"\n",
        "respuesta = resultado.invoke(multitask_prompt)\n",
        "print(\"Granite Model Response:\\n\")\n",
        "print(respuesta)"
      ]
    },
    {
      "cell_type": "code",
      "execution_count": null,
      "metadata": {
        "id": "tLuB6O49KYOL",
        "colab": {
          "base_uri": "https://localhost:8080/"
        },
        "outputId": "c373bf75-4248-49c5-d585-09be4a9add74"
      },
      "outputs": [
        {
          "output_type": "stream",
          "name": "stdout",
          "text": [
            "Granite Model Formatted Response:\n",
            "\n",
            "- Sentimiento: Positivo\n",
            "  Categorías: Rendimiento de la batería, Rendimiento general\n",
            "\n",
            "- Sentimiento: Mixto\n",
            "  Categorías: Brillo de la pantalla, Experiencia de visualización interior\n",
            "\n",
            "- Sentimiento: Negativo\n",
            "  Categorías: Velocidad del dispositivo, Funcionamiento de aplicaciones\n"
          ]
        }
      ],
      "source": [
        "# Definir el ejemplo para guiar el modelo\n",
        "formatted_prompt = f\"\"\"\n",
        "Clasifica estas reseñas como positivas, negativas o mixtas y\n",
        "etiqueta las categorías pertinentes. Utiliza este formato:\n",
        "- Sentimiento: [Sentimiento]\n",
        " Categorías: [Categorías].\n",
        "{reviews_text}\n",
        "\"\"\"\n",
        "# Invocar el modelo con la solicitud\n",
        "respuesta = resultado.invoke(formatted_prompt)\n",
        "# Imprimir la respuesta\n",
        "print(\"Granite Model Formatted Response:\\n\")\n",
        "print(respuesta)\n",
        "\n"
      ]
    },
    {
      "cell_type": "markdown",
      "metadata": {
        "id": "Wsg3ln81KnqM"
      },
      "source": [
        "Transcripción reunión"
      ]
    },
    {
      "cell_type": "code",
      "execution_count": null,
      "metadata": {
        "id": "iBArQCOJKtxm",
        "colab": {
          "base_uri": "https://localhost:8080/"
        },
        "outputId": "582e3001-893a-4741-967f-b444e1e8ecb3"
      },
      "outputs": [
        {
          "output_type": "stream",
          "name": "stdout",
          "text": [
            "Granite Model Response:\n",
            "\n",
            "**Resumen de la Reunión:**\n",
            "\n",
            "1. **Presupuesto de Marketing (3T):** Se estableció una distribución del 40% para anuncios digitales, 30% para eventos y 30% para campañas en redes sociales.\n",
            "\n",
            "2. **Estrategias Específicas:**\n",
            "   - Se acordó fortalecer la estrategia de marketing por correo electrónico para fomentar la interacción directa.\n",
            "   - Se planea establecer alianzas con influencers para aumentar la visibilidad de la marca.\n",
            "   - Se lanzará un programa piloto en el próximo mes para probar nuevos formatos publicitarios, con una revisión de resultados a finales del tercer trimestre.\n",
            "\n",
            "3. **Métricas de Rendimiento y Ajustes:**\n",
            "   - El equipo enfatizó la importancia de monitorear el ROI como una prioridad máxima.\n",
            "   - Los ajustes en la estrategia se basarán en los datos de rendimiento recopilados.\n",
            "\n",
            "4. **Asignación de Recursos para Eventos:**\n",
            "   - El equipo de eventos expresó preocupaciones sobre la asignación de recursos para ferias comerciales futuras.\n",
            "   - Se acordó reasignar $10,000 adicionales para cubrir estos gastos.\n",
            "\n",
            "5. **Conceptos Creativos:**\n",
            "   - Se revisaron nuevos conceptos para la próxima campaña.\n",
            "   - Se decidió continuar con el Concepto 8, que obtuvo los mejores resultados en grupos de enfoque.\n",
            "\n",
            "6. **Plazos de Entrega:**\n",
            "   - Todos los activos de la campaña deben estar completados y presentados antes del 15 de julio.\n"
          ]
        }
      ],
      "source": [
        "customer_meetings = [\n",
        "\"\"\"\n",
        "La reunión comenzó con una discusión sobre el presupuesto de\n",
        "marketing del tercer trimestre. Se decidió que el 40 % del\n",
        "presupuesto se destinará a anuncios digitales, el 30 % a eventos y\n",
        "el 30 % a campañas en redes sociales. El equipo enfatizó la\n",
        "necesidad de concretar asociaciones con influencers para aumentar\n",
        "la visibilidad de la marca y el marketing por correo electrónico\n",
        "para impulsar la interacción directa. El próximo mes se lanzará un\n",
        "programa piloto para probar nuevos formatos de anuncios y el\n",
        "equipo revisará los resultados a finales del tercer trimestre.\n",
        "Posteriormente, el equipo discutió las métricas de rendimiento de\n",
        "la campaña. El seguimiento del ROI será una máxima prioridad y se\n",
        "realizarán ajustes en función de los datos de rendimiento.\n",
        "El equipo de eventos planteó inquietudes sobre la asignación de\n",
        "recursos para las próximas ferias comerciales y se acordó que se\n",
        "reasignarían $10.000 adicionales para cubrir estos gastos.\n",
        "Por último, el equipo revisó nuevos conceptos creativos para la\n",
        "próxima campaña y decidió continuar con el Concepto 8, que tuvo\n",
        "mejores resultados entre los focus groups. Se ultimaron los plazos\n",
        "para la entrega de los activos de campaña: todos los entregables\n",
        "deben presentarse a más tardar el 15 de julio.\n",
        "\"\"\"\n",
        "]\n",
        "\n",
        "\n",
        "# Refinar la solicitud para incluir reseñas\n",
        "reviews_text = \"\\n\".join([f\"Review {i+1}: {review}\" for i, review\n",
        "in enumerate(customer_meetings)])\n",
        "prompt = f\"\"\"\n",
        "Resume esta reunión:\n",
        "{reviews_text}\n",
        "\"\"\"\n",
        "# Invocar el modelo con la solicitud de ejemplo\n",
        "respuesta = resultado.invoke(prompt)\n",
        "# Imprimir la respuesta\n",
        "print(\"Granite Model Response:\\n\")\n",
        "print(respuesta)"
      ]
    },
    {
      "cell_type": "code",
      "execution_count": null,
      "metadata": {
        "id": "08FC4RlQLGSM",
        "colab": {
          "base_uri": "https://localhost:8080/"
        },
        "outputId": "355d9528-c142-433d-cbf8-eaa4babb7dcf"
      },
      "outputs": [
        {
          "output_type": "stream",
          "name": "stdout",
          "text": [
            "Granite Model Refined Response:\n",
            "\n",
            "En la reunión, se aprobó un presupuesto de marketing para el trimestre 3, con 40% para anuncios digitales, 30% para eventos y 30% para campañas en redes sociales. Se planificarán asociaciones con influencers y se lanzará un programa piloto para nuevos anuncios, con revisiones de rendimiento mensuales para ajustar el ROI. Además, se aumentó la asignación de recursos para ferias comerciales en $10,000 y se seleccionó el Concepto 8 para la próxima campaña basándose en pruebas de grupos focales. Todos los activos de la campaña deben estar listos para el 15 de julio.\n"
          ]
        }
      ],
      "source": [
        "# Definir una solicitud refinada\n",
        "refined_prompt = f\"\"\"\n",
        "Resume esta reunión en tres oraciones:\n",
        "{reviews_text}\n",
        "\"\"\"\n",
        "# Invocar el modelo con la solicitud refinada\n",
        "respuesta = resultado.invoke(refined_prompt)\n",
        "# Imprimir la respuesta\n",
        "print(\"Granite Model Refined Response:\\n\")\n",
        "print(respuesta)"
      ]
    },
    {
      "cell_type": "code",
      "execution_count": null,
      "metadata": {
        "id": "21yfmhlCLQF9",
        "colab": {
          "base_uri": "https://localhost:8080/"
        },
        "outputId": "e454b51a-2acd-434b-a46a-f9b12ad9f4ba"
      },
      "outputs": [
        {
          "output_type": "stream",
          "name": "stdout",
          "text": [
            "Granite Model Response for refined focus area response:\n",
            "\n",
            "**Resumen de la Reunión:**\n",
            "\n",
            "1. **Presupuesto de Marketing del Tercer Trimestre:**\n",
            "   - Se asignó el 40% del presupuesto a anuncios digitales, 30% a eventos y 30% a campañas en redes sociales.\n",
            "   - Se enfatizó la importancia de establecer asociaciones con influencers y utilizar el marketing por correo electrónico para la interacción directa.\n",
            "   - Se lanzará un programa piloto para nuevos formatos de anuncios en el próximo mes, con una revisión de resultados a finales del trimestre.\n",
            "   - Se priorizará el seguimiento del ROI y se realizarán ajustes según los datos de rendimiento.\n",
            "\n",
            "2. **Asignación de Recursos para Eventos:**\n",
            "   - El equipo de eventos expresó preocupaciones sobre la asignación de recursos para ferias comerciales futuras.\n",
            "   - Se acordó reasignar $10,000 adicionales para cubrir estos gastos.\n",
            "\n",
            "3. **Selección de Concepto Creativo:**\n",
            "   - Se revisaron nuevos conceptos creativos para la próxima campaña.\n",
            "   - Se decidió continuar con el Concepto 8, que mostró mejores resultados en grupos de enfoque.\n",
            "\n",
            "4. **Plazos para Activos de Campaña:**\n",
            "   - Todos los entregables de la campaña deben presentarse a más tardar el 15 de julio.\n",
            "\n",
            "**Acciones Pendientes:**\n",
            "\n",
            "- Establecer asociaciones con influencers.\n",
            "- Desarrollar y probar nuevos formatos de anuncios (programa piloto).\n",
            "- Monitorear y ajustar el presupuesto de marketing basándose en el ROI.\n",
            "- Reasignar $10,000 adicionales para ferias comerciales.\n",
            "- Finalizar y entregar activos de campaña para el 15 de julio.\n"
          ]
        }
      ],
      "source": [
        "# Definir la solicitud con una solicitud refinada de aspectosprioritarios\n",
        "refined_focusarea_prompt = f\"\"\"\n",
        "Resume esta reunión centrándote en los puntos clave, las\n",
        "decisiones tomadas y las acciones pendientes:\n",
        "{reviews_text}\n",
        "\"\"\"\n",
        "respuesta = resultado.invoke(refined_focusarea_prompt)\n",
        "print(\"Granite Model Response for refined focus area response:\\n\")\n",
        "print(respuesta)"
      ]
    },
    {
      "cell_type": "code",
      "execution_count": null,
      "metadata": {
        "id": "hqRcbCcILX-f",
        "colab": {
          "base_uri": "https://localhost:8080/"
        },
        "outputId": "8d093e4d-65cb-49a7-99b6-3861c7704bdc"
      },
      "outputs": [
        {
          "output_type": "stream",
          "name": "stdout",
          "text": [
            "Granite Model Response for refined output formatresponse:\n",
            "\n",
            "**Puntos clave discutidos:**\n",
            "\n",
            "- Allocation del presupuesto de marketing para el TQ3: 40% para anuncios digitales, 30% para eventos y 30% para campañas en redes sociales.\n",
            "- Priorizar asociaciones con influencers y marketing por correo electrónico para aumentar la visibilidad de la marca y la interacción directa.\n",
            "\n",
            "**Decisiones tomadas:**\n",
            "\n",
            "- Lanzar un programa piloto para probar nuevos formatos de anuncios en el próximo mes.\n",
            "- Reasignar $10,000 adicionales para recursos de eventos en las próximas ferias comerciales.\n",
            "- Seleccionar Concepto 8 para la próxima campaña, basado en mejores resultados de grupos focales.\n",
            "- Establecer un plazo final para la entrega de activos de campaña: 15 de julio.\n",
            "\n",
            "**Acciones pendientes:**\n",
            "\n",
            "- Revisar los resultados del programa piloto a finales del TQ3.\n",
            "- Ajustar estrategias de marketing según los datos de rendimiento y ROI.\n",
            "- Finalizar y entregar todos los activos de campaña para cumplir con el plazo del 15 de julio.\n"
          ]
        }
      ],
      "source": [
        "# Definir la solicitud con una solicitud de resultado refinada\n",
        "refined_outputformat_prompt = f\"\"\"\n",
        "Resume esta reunión en un formato estructurado utilizando los\n",
        "siguientes títulos: Puntos clave discutidos, Decisiones tomadas y\n",
        "Acciones pendientes. Menciona los cronogramas.\n",
        "Incluye solo dos viñetas concisas para cada título.\n",
        "{reviews_text}\n",
        "\"\"\"\n",
        "respuesta = resultado.invoke(refined_outputformat_prompt)\n",
        "print(\"Granite Model Response for refined output formatresponse:\\n\")\n",
        "print(respuesta)"
      ]
    }
  ],
  "metadata": {
    "colab": {
      "provenance": [],
      "authorship_tag": "ABX9TyOxx3fScNmvRyb6v3CHDay2"
    },
    "kernelspec": {
      "display_name": "Python 3",
      "name": "python3"
    },
    "language_info": {
      "name": "python"
    }
  },
  "nbformat": 4,
  "nbformat_minor": 0
}