{
  "nbformat": 4,
  "nbformat_minor": 0,
  "metadata": {
    "colab": {
      "provenance": [],
      "authorship_tag": "ABX9TyP+2vt6+hTIAXPNy1GhjWjD"
    },
    "kernelspec": {
      "name": "python3",
      "display_name": "Python 3"
    },
    "language_info": {
      "name": "python"
    }
  },
  "cells": [
    {
      "cell_type": "code",
      "execution_count": null,
      "metadata": {
        "id": "d_dD4AxM1ECx"
      },
      "outputs": [],
      "source": [
        "!pip install langchain-community\n",
        "!pip install replicate"
      ]
    },
    {
      "cell_type": "code",
      "source": [
        "from langchain_community.llms import Replicate\n",
        "import os\n",
        "from google.colab import userdata\n",
        "\n",
        "# Establecer el token de API\n",
        "api_token = userdata.get('Replicate')\n",
        "os.environ[\"REPLICATE_API_TOKEN\"] = api_token\n",
        "# Configuración del modelo\n",
        "modelo = \"ibm-granite/granite-3.3-8b-instruct\"\n",
        "resultado = Replicate(\n",
        " model=modelo,\n",
        " replicate_api_token=api_token,\n",
        ")"
      ],
      "metadata": {
        "id": "wMFTSmZV1Pkm"
      },
      "execution_count": 3,
      "outputs": []
    },
    {
      "cell_type": "code",
      "source": [
        "# Definir las reseñas de los clientes\n",
        "customer_reviews = [\n",
        " \"La batería dura todo el día, pero el teléfono se calienta mientras juego\",\n",
        "\"La pantalla es demasiado oscura en exteriores, pero me encantan los colores en interiores\",\n",
        "\"Este teléfono es rápido, pero falla cuando abro ciertas aplicaciones.\"]\n",
        "\n",
        "# Refinar la solicitud para incluir reseñas\n",
        "reviews_text = \"\\n\".join([f\"Review {i+1}: {review}\" for i,\n",
        "review in enumerate(customer_reviews)])\n",
        "\n",
        "# Establecer los parámetros del modelo para la formulación de lasolicitud con valores predeterminados\n",
        "parameters = {\n",
        " \"top_k\": 0,\n",
        " \"top_p\": 1.0,\n",
        " \"max_tokens\": 256,\n",
        " \"min_tokens\": 0,\n",
        " \"random_seed\": None,\n",
        " \"repetition_penalty\": 1.0,\n",
        " \"stopping_criteria\": \"length (256 tokens)\",\n",
        " \"stopping_sequence\": None\n",
        "}\n",
        "\n",
        "# Agregar solicitud inicial\n",
        "refined_prompt = f\"\"\":\n",
        "Clasifica estas reseñas como positivas, negativas o mixtas y\n",
        "etiqueta los aspectos prioritarios pertinentes, como la duración de\n",
        "la batería, la calidad de la pantalla o el rendimiento\n",
        "{reviews_text}\n",
        "\"\"\"\n",
        "# Invocar el modelo\n",
        "respuesta = resultado.invoke(refined_prompt, parameters=parameters)\n",
        "# Imprimir la respuesta\n",
        "print(\"Granite Model Refined Response:\\n\")\n",
        "print(respuesta)"
      ],
      "metadata": {
        "colab": {
          "base_uri": "https://localhost:8080/"
        },
        "id": "W58beLzL1VMB",
        "outputId": "a4cce0b1-0f3f-47e9-ea69-ea48c97689e2"
      },
      "execution_count": 5,
      "outputs": [
        {
          "output_type": "stream",
          "name": "stdout",
          "text": [
            "Granite Model Refined Response:\n",
            "\n",
            "Review 1: \n",
            "- Clasificación: Mixta\n",
            "- Aspectos Prioritarios: Duración de la batería (positivo), Calentamiento durante juego (negativo)\n",
            "\n",
            "Review 2: \n",
            "- Clasificación: Mixta\n",
            "- Aspectos Prioritarios: Calidad de la pantalla en interiores (positivo), Calidad de la pantalla en exteriores (negativo)\n",
            "\n",
            "Review 3:\n",
            "- Clasificación: Mixta\n",
            "- Aspectos Prioritarios: Rendimiento general (positivo), Problemas con ciertas aplicaciones (negativo)\n"
          ]
        }
      ]
    },
    {
      "cell_type": "code",
      "source": [
        "# Refinar el valor del parámetro top_k del modelo\n",
        "parameters = {\n",
        "\"top_k\": 5,\n",
        "\"top_p\": 1.0,\n",
        "\"max_tokens\": 256,\n",
        "\"min_tokens\": 0,\n",
        "\"random_seed\": None,\n",
        "\"repetition_penalty\": 1.0,\n",
        "\"stopping_criteria\": \"length (256 tokens)\",\n",
        "\"stopping_sequence\": None\n",
        "}\n",
        "\n",
        "\n",
        "# Agregar solicitud inicial\n",
        "refined_prompt = f\"\"\":\n",
        "Clasifica estas reseñas como positivas, negativas o mixtas y\n",
        "etiqueta los aspectos prioritarios pertinentes, como la duración de\n",
        "la batería, la calidad de la pantalla o el rendimiento\n",
        "{reviews_text}\n",
        "\"\"\"\n",
        "# Invocar el modelo\n",
        "respuesta = resultado.invoke(refined_prompt, parameters=parameters)\n",
        "# Imprimir la respuesta\n",
        "print(\"Granite Model Refined Response:\\n\")\n",
        "print(respuesta)"
      ],
      "metadata": {
        "colab": {
          "base_uri": "https://localhost:8080/"
        },
        "id": "mdTbBHaG1wuR",
        "outputId": "301351c7-c6af-480b-d9e6-795b7044ef5b"
      },
      "execution_count": 6,
      "outputs": [
        {
          "output_type": "stream",
          "name": "stdout",
          "text": [
            "Granite Model Refined Response:\n",
            "\n",
            "1. Reseña 1: Mixta\n",
            "   - Aspecto prioritario positivo: Duración de la batería\n",
            "   - Aspecto prioritario negativo: Sobrecalentamiento durante el uso intensivo\n",
            "\n",
            "2. Reseña 2: Mixta\n",
            "   - Aspecto prioritario negativo: Pantalla demasiado oscura al aire libre\n",
            "   - Aspecto prioritario positivo: Buena reproducción de colores en interiores\n",
            "\n",
            "3. Reseña 3: Mixta\n",
            "   - Aspecto prioritario positivo: Rendimiento general (rapidez)\n",
            "   - Aspecto prioritario negativo: Problemas al abrir ciertas aplicaciones\n",
            "\n",
            "En resumen, las tres reseñas presentan una mezcla de aspectos positivos y negativos, indicando una experiencia mixta con el dispositivo en cuestión.\n"
          ]
        }
      ]
    },
    {
      "cell_type": "code",
      "source": [
        "# Refinar múltiples valores de parámetros del modelo\n",
        "parameters = {\n",
        " \"top_k\": 1,\n",
        " \"top_p\": 0.5,\n",
        " \"max_tokens\": 10,\n",
        " \"min_tokens\": 3,\n",
        " \"random_seed\": None,\n",
        " \"repetition_penalty\": 1.5,\n",
        " \"stopping_criteria\": \"length\",\n",
        " \"stopping_sequence\": None\n",
        "}\n",
        "\n",
        "# Agregar solicitud inicial\n",
        "refined_prompt = f\"\"\":\n",
        "Clasifica estas reseñas como positivas, negativas o mixtas y\n",
        "etiqueta los aspectos prioritarios pertinentes, como la duración de\n",
        "la batería, la calidad de la pantalla o el rendimiento\n",
        "{reviews_text}\n",
        "\"\"\"\n",
        "# Invocar el modelo\n",
        "respuesta = resultado.invoke(refined_prompt, parameters=parameters)\n",
        "# Imprimir la respuesta\n",
        "print(\"Granite Model Refined Response:\\n\")\n",
        "print(respuesta)"
      ],
      "metadata": {
        "colab": {
          "base_uri": "https://localhost:8080/"
        },
        "id": "L29E3Y5O3ABu",
        "outputId": "4d5aea95-7f22-4f94-caed-7aa258b1dad1"
      },
      "execution_count": 7,
      "outputs": [
        {
          "output_type": "stream",
          "name": "stdout",
          "text": [
            "Granite Model Refined Response:\n",
            "\n",
            "Review 1:\n",
            "- Aspecto prioritario: Duración de la batería (positivo)\n",
            "- Aspecto prioritario: Calentamiento del teléfono (negativo)\n",
            "Clasificación general: Mixta\n",
            "\n",
            "Review 2:\n",
            "- Aspecto prioritario: Calidad de la pantalla en interiores (positivo)\n",
            "- Aspecto prioritario: Calidad de la pantalla en exteriores (negativo)\n",
            "Clasificación general: Mixta\n",
            "\n",
            "Review 3:\n",
            "- Aspecto prioritario: Rendimiento general (positivo)\n",
            "- Aspecto prioritario: Problemas con ciertas aplicaciones (negativo)\n",
            "Clasificación general: Mixta\n"
          ]
        }
      ]
    },
    {
      "cell_type": "code",
      "source": [
        "#Refinar múltiples valores de parámetros del modelo\n",
        "parameters = {\n",
        " \"top_k\": 1,\n",
        " \"top_p\": 0.5,\n",
        " \"max_tokens\": 3,\n",
        " \"min_tokens\": 1,\n",
        " \"random_seed\": None,\n",
        " \"repetition_penalty\": 1.5,\n",
        " \"stopping_criteria\": \"length\",\n",
        " \"stopping_sequence\": \" \"\n",
        "}\n",
        "\n",
        "# Agregar solicitud inicial\n",
        "refined_prompt = f\"\"\":\n",
        "Clasifica estas reseñas como positivas, negativas o mixtas y\n",
        "etiqueta los aspectos prioritarios pertinentes, como la duración de\n",
        "la batería, la calidad de la pantalla o el rendimiento\n",
        "{reviews_text}\n",
        "\"\"\"\n",
        "# Invocar el modelo\n",
        "respuesta = resultado.invoke(refined_prompt, parameters=parameters)\n",
        "# Imprimir la respuesta\n",
        "print(\"Granite Model Refined Response:\\n\")\n",
        "print(respuesta)"
      ],
      "metadata": {
        "colab": {
          "base_uri": "https://localhost:8080/"
        },
        "id": "CKAUiBLU3Zjk",
        "outputId": "62a676ec-d8b7-4d9d-8201-51e95266ef14"
      },
      "execution_count": 8,
      "outputs": [
        {
          "output_type": "stream",
          "name": "stdout",
          "text": [
            "Granite Model Refined Response:\n",
            "\n",
            "Review 1: \n",
            "- Aspecto Prioritario: Duración de la batería (positivo)\n",
            "- Aspecto Prioritario: Calentamiento del teléfono (negativo)\n",
            "\n",
            "Clasificación: Mixta\n",
            "\n",
            "Review 2:\n",
            "- Aspecto Prioritario: Calidad de la pantalla en interiores (positivo)\n",
            "- Aspecto Prioritario: Calidad de la pantalla en exteriores (negativo)\n",
            "\n",
            "Clasificación: Mixta\n",
            "\n",
            "Review 3:\n",
            "- Aspecto Prioritario: Rendimiento general (positivo)\n",
            "- Aspecto Prioritario: Problemas con ciertas aplicaciones (negativo)\n",
            "\n",
            "Clasificación: Mixta\n"
          ]
        }
      ]
    },
    {
      "cell_type": "code",
      "source": [
        "# Definir las reseñas de los clientes\n",
        "customer_meetings = [\n",
        "\"\"\"La reunión comenzó con una discusión sobre el presupuesto de\n",
        "marketing del tercer trimestre. Se decidió que el 40 % del\n",
        "presupuesto se destinará a anuncios digitales, el 30 % a\n",
        "eventos y el 30 % a campañas en redes sociales. El equipo\n",
        "enfatizó la necesidad de concretar asociaciones con influencers\n",
        "para aumentar la visibilidad de la marca y el marketing por\n",
        "correo electrónico para impulsar la interacción directa. El\n",
        "próximo mes se lanzará un programa piloto para probar nuevos\n",
        "formatos de anuncios y el equipo revisará los resultados a\n",
        "finales del tercer trimestre.\n",
        "\n",
        "Posteriormente, el equipo discutió las métricas de rendimiento\n",
        "de la campaña. El seguimiento del ROI será una máxima prioridad\n",
        "y se realizarán ajustes en función de los datos de rendimiento.\n",
        "\n",
        "El equipo de eventos planteó inquietudes sobre la asignación de\n",
        "recursos para las próximas ferias comerciales y se acordó que\n",
        "se reasignarían $10,000 adicionales para cubrir estos gastos.\n",
        "\n",
        "Por último, el equipo revisó nuevos conceptos creativos para la\n",
        "próxima campaña y decidió continuar con el Concepto B, que tuvo\n",
        "mejores resultados entre los grupos focales. Se ultimaron los\n",
        "plazos para la entrega de los activos de campaña: todos los\n",
        "entregables deben presentarse a más tardar el 15 de julio\"\"\"]"
      ],
      "metadata": {
        "id": "tC-Rp6vq4-pS"
      },
      "execution_count": 12,
      "outputs": []
    },
    {
      "cell_type": "code",
      "source": [
        "# Refinar la solicitud para incluir reseñas\n",
        "reviews_text = \"\\n\".join([f\"Review {i+1}: {review}\" for i,\n",
        "review in enumerate(customer_meetings)])\n",
        "\n",
        "# Aplicar parámetros predeterminados\n",
        "parameters = {\n",
        "\"top_k\": 0,\n",
        "\"top_p\": 1.0,\n",
        "\"max_tokens\": 256,\n",
        "\"min_tokens\": 0,\n",
        "\"random_seed\": None,\n",
        "\"repetition_penalty\": 1.0,\n",
        "\"stopping_criteria\": \"length (256 tokens)\",\n",
        "\"stopping_sequence\": None\n",
        "}\n",
        "# Solicitud refinada con ejemplo incluido\n",
        "refined_focus_prompt = f\"\"\"\n",
        "Resume esta reunión centrándote en los puntos clave, las\n",
        "decisiones y las acciones pendientes.\n",
        "{reviews_text}\n",
        "\"\"\"\n",
        "\n",
        "# Invocar el modelo con la solicitud de enfoque refinado\n",
        "respuesta = resultado.invoke(refined_focus_prompt,\n",
        "parameters=parameters)\n",
        "# Imprimir la respuesta\n",
        "print(\"Granite Model Response for refined focus area response:\\n\")\n",
        "print(respuesta)"
      ],
      "metadata": {
        "colab": {
          "base_uri": "https://localhost:8080/"
        },
        "id": "ceQdwIJt5Gw-",
        "outputId": "dc2fbbb5-f0a1-4774-d26e-126fa0bcad04"
      },
      "execution_count": 14,
      "outputs": [
        {
          "output_type": "stream",
          "name": "stdout",
          "text": [
            "Granite Model Response for refined focus area response:\n",
            "\n",
            "**Resumen de la Reunión:**\n",
            "\n",
            "1. **Presupuesto de Marketing (Tercer Trimestre):**\n",
            "   - 40% se asignará a anuncios digitales.\n",
            "   - 30% a eventos.\n",
            "   - 30% a campañas en redes sociales.\n",
            "   - Se acordó establecer asociaciones con influencers y utilizar marketing por correo electrónico para aumentar la interacción.\n",
            "   - Lanzamiento de un programa piloto para nuevos formatos de anuncios en el próximo mes; revisión de resultados a finales del tercer trimestre.\n",
            "\n",
            "2. **Métricas de Rendimiento y ROI:**\n",
            "   - Se priorizará el seguimiento del ROI.\n",
            "   - Ajustes basados en datos de rendimiento.\n",
            "\n",
            "3. **Asignación de Recursos para Ferias Comerciales:**\n",
            "   - El equipo de eventos expresó preocupaciones sobre la asignación de recursos.\n",
            "   - Se reasignarán $10,000 adicionales para cubrir los gastos de ferias comerciales.\n",
            "\n",
            "4. **Conceptos Creativos para la Campaña:**\n",
            "   - Se decidió continuar con el Concepto B debido a los mejores resultados en grupos focales.\n",
            "   - Plazos de entrega: Todos los activos de campaña deben presentarse a más tardar el 15 de julio.\n",
            "\n",
            "**Acciones Pendientes:**\n",
            "\n",
            "- Establecer asociaciones con influencers.\n",
            "- Desarrollar y ejecutar un programa piloto de nuevos formatos de anuncios.\n",
            "- Monitorear y ajustar el presupuesto según el ROI.\n",
            "- Reasignar $10,000 adicionales para ferias comerciales.\n",
            "- Finalizar y presentar todos los activos de campaña para el 15 de julio.\n"
          ]
        }
      ]
    },
    {
      "cell_type": "code",
      "source": [
        "# Refinar el valor del parámetro max_tokens\n",
        "parameters = {\n",
        "\"top_k\": 0,\n",
        "\"top_p\": 1.0,\n",
        "\"max_tokens\": 20,\n",
        "\"min_tokens\": 0,\n",
        "\"random_seed\": None,\n",
        "\"repetition_penalty\": 1.0,\n",
        "\"stopping_criteria\": \"length (256 tokens)\",\n",
        "\"stopping_sequence\": None\n",
        "}\n",
        "\n",
        "# Solicitud refinada con ejemplo incluido\n",
        "refined_focus_prompt = f\"\"\"\n",
        "Resume esta reunión centrándote en los puntos clave, las\n",
        "decisiones y las acciones pendientes.\n",
        "{reviews_text}\n",
        "\"\"\"\n",
        "\n",
        "# Invocar el modelo con la solicitud de enfoque refinado\n",
        "respuesta = resultado.invoke(refined_focus_prompt,\n",
        "parameters=parameters)\n",
        "# Imprimir la respuesta\n",
        "print(\"Granite Model Response for refined focus area response:\\n\")\n",
        "print(respuesta)"
      ],
      "metadata": {
        "colab": {
          "base_uri": "https://localhost:8080/"
        },
        "id": "PB1tzr1_64re",
        "outputId": "9cb13105-cb3c-4d09-fa3b-1c281efc8614"
      },
      "execution_count": 15,
      "outputs": [
        {
          "output_type": "stream",
          "name": "stdout",
          "text": [
            "Granite Model Response for refined focus area response:\n",
            "\n",
            "**Resumen de la Reunión:**\n",
            "\n",
            "1. **Presupuesto de Marketing (3T):**\n",
            "   - 40% para anuncios digitales\n",
            "   - 30% para eventos\n",
            "   - 30% para campañas en redes sociales\n",
            "   - Priorizar asociaciones con influencers y marketing por correo electrónico\n",
            "   - Programa piloto de nuevos formatos de anuncios a lanzar este mes; revisión de resultados para finales del 3T.\n",
            "\n",
            "2. **Métricas de Rendimiento:**\n",
            "   - Enfoque en el ROI, con ajustes basados en datos de rendimiento.\n",
            "\n",
            "3. **Asignación de Recursos para Eventos:**\n",
            "   - Reasignación de $10,000 adicionales para ferias comerciales.\n",
            "\n",
            "4. **Conceptos Creativos:**\n",
            "   - Decisión de continuar con Concepto B (mejor resultado en grupos focales).\n",
            "   - Plazo final para entrega de activos de campaña: 15 de julio.\n",
            "\n",
            "**Acciones Pendientes:**\n",
            "\n",
            "- Implementar el programa piloto de nuevos formatos de anuncios.\n",
            "- Monitorear y ajustar el presupuesto según el ROI.\n",
            "- Reasignar $10,000 adicionales para eventos.\n",
            "- Finalizar y entregar todos los activos de campaña para el 15 de julio.\n"
          ]
        }
      ]
    },
    {
      "cell_type": "code",
      "source": [
        "# Refinar múltiples valores de parámetros\n",
        "parameters = {\n",
        "\"top_k\": 10,\n",
        "\"top_p\": 0.9,\n",
        "\"max_tokens\": 20,\n",
        "\"min_tokens\": 0,\n",
        "\"random_seed\": None,\n",
        "\"repetition_penalty\": 1.5,\n",
        "\"stopping_criteria\": \"length (256 tokens)\",\n",
        "\"stopping_sequence\": \" \"\n",
        "}\n",
        "\n",
        "\n",
        "# Solicitud refinada con ejemplo incluido\n",
        "refined_focus_prompt = f\"\"\"\n",
        "Resume esta reunión centrándote en los puntos clave, las\n",
        "decisiones y las acciones pendientes.\n",
        "{reviews_text}\n",
        "\"\"\"\n",
        "\n",
        "# Invocar el modelo con la solicitud de enfoque refinado\n",
        "respuesta = resultado.invoke(refined_focus_prompt,\n",
        "parameters=parameters)\n",
        "# Imprimir la respuesta\n",
        "print(\"Granite Model Response for refined focus area response:\\n\")\n",
        "print(respuesta)"
      ],
      "metadata": {
        "colab": {
          "base_uri": "https://localhost:8080/"
        },
        "id": "GTuwf5Zw7F7I",
        "outputId": "7468ecf9-d472-49c9-c7d3-4397494fe5f8"
      },
      "execution_count": 16,
      "outputs": [
        {
          "output_type": "stream",
          "name": "stdout",
          "text": [
            "Granite Model Response for refined focus area response:\n",
            "\n",
            "**Resumen de la Reunión:**\n",
            "\n",
            "1. **Presupuesto de Marketing (Trimestre 3):**\n",
            "   - 40% para anuncios digitales\n",
            "   - 30% para eventos\n",
            "   - 30% para campañas en redes sociales\n",
            "   - Priorizar asociaciones con influencers y marketing por correo electrónico\n",
            "   - Lanzamiento de un programa piloto para nuevos formatos de anuncios en agosto, con revisión de resultados a finales del trimestre.\n",
            "\n",
            "2. **Métricas de Rendimiento y ROI:**\n",
            "   - Seguimiento del ROI como prioridad máxima\n",
            "   - Ajustes basados en datos de rendimiento\n",
            "\n",
            "3. **Asignación de Recursos para Eventos:**\n",
            "   - Reasignación de $10,000 adicionales para ferias comerciales\n",
            "\n",
            "4. **Conceptos Creativos para la Próxima Campaña:**\n",
            "   - Selección del Concepto B, basada en mejores resultados de grupos focales\n",
            "   - Plazos de entrega: Todos los activos de campaña deben presentarse antes del 15 de julio\n",
            "\n",
            "**Acciones Pendientes:**\n",
            "\n",
            "- Finalizar y entregar todos los activos de campaña antes del 15 de julio\n",
            "- Monitorear el ROI y realizar ajustes según los datos de rendimiento\n",
            "- Reasignar $10,000 adicionales para cubrir costos de eventos\n",
            "- Evaluar resultados del programa piloto de anuncios digitales a finales del trimestre\n"
          ]
        }
      ]
    }
  ]
}